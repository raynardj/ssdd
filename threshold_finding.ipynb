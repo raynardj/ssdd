{
 "cells": [
  {
   "cell_type": "markdown",
   "metadata": {},
   "source": [
    "# Threshold Finding"
   ]
  },
  {
   "cell_type": "code",
   "execution_count": 1,
   "metadata": {},
   "outputs": [],
   "source": [
    "from pathlib import Path\n",
    "DATA = DATA = Path('/home/paperspace/ssdd')\n",
    "\n",
    "BS = 18\n",
    "EPOCHS = 1"
   ]
  },
  {
   "cell_type": "code",
   "execution_count": 2,
   "metadata": {},
   "outputs": [],
   "source": [
    "import torch\n",
    "from torch.jit import load\n",
    "\n",
    "import segmentation_models_pytorch as smp\n",
    "\n",
    "import os\n",
    "import cv2\n",
    "import pdb\n",
    "import time\n",
    "import warnings\n",
    "import random\n",
    "import numpy as np\n",
    "import pandas as pd\n",
    "from tqdm import tqdm_notebook as tqdm\n",
    "\n",
    "from torch.optim.lr_scheduler import ReduceLROnPlateau\n",
    "from sklearn.model_selection import train_test_split\n",
    "\n",
    "import torch\n",
    "import torch.nn as nn\n",
    "from torch.nn import functional as F\n",
    "import torch.optim as optim\n",
    "import torch.backends.cudnn as cudnn\n",
    "from torch.utils.data import DataLoader, Dataset, sampler\n",
    "\n",
    "from matplotlib import pyplot as plt\n",
    "\n",
    "from albumentations import (HorizontalFlip, RGBShift, ElasticTransform, GridDistortion,RandomBrightness ,ShiftScaleRotate, Normalize, Resize, Compose, GaussNoise)\n",
    "from albumentations.pytorch import ToTensor\n",
    "\n",
    "from onecyclelr import OneCycleLR\n",
    "\n",
    "from sklearn.model_selection import train_test_split\n",
    "from sklearn import model_selection\n",
    "from fastai.vision import *\n"
   ]
  },
  {
   "cell_type": "code",
   "execution_count": 3,
   "metadata": {},
   "outputs": [],
   "source": [
    "seed = 69\n",
    "random.seed(seed)\n",
    "os.environ[\"PYTHONHASHSEED\"] = str(seed)\n",
    "np.random.seed(seed)\n",
    "torch.cuda.manual_seed(seed)\n",
    "torch.backends.cudnn.deterministic = True"
   ]
  },
  {
   "cell_type": "code",
   "execution_count": 4,
   "metadata": {},
   "outputs": [],
   "source": [
    "def mask2rle(img):\n",
    "    '''\n",
    "    Numpy image to run length encoding\n",
    "    img: numpy array, 1 -> mask, 0 -> background\n",
    "    Returns run length as string formated\n",
    "    '''\n",
    "    pixels= img.T.flatten()\n",
    "    pixels = np.concatenate([[0], pixels, [0]])\n",
    "    runs = np.where(pixels[1:] != pixels[:-1])[0] + 1\n",
    "    runs[1::2] -= runs[::2]\n",
    "    return ' '.join(str(x) for x in runs)\n",
    "\n",
    "def make_mask(row_id, df):\n",
    "    '''Given a row index, return image_id and mask (256, 1600, 4) from the dataframe `df`'''\n",
    "    fname = df.iloc[row_id].name\n",
    "    labels = df.iloc[row_id][:4]\n",
    "    masks = np.zeros((256, 1600, 4), dtype=np.float32) # float32 is V.Imp\n",
    "    # 4:class 1～4 (ch:0～3)\n",
    "\n",
    "    for idx, label in enumerate(labels.values):\n",
    "        if label is not np.nan:\n",
    "            label = label.split(\" \")\n",
    "            positions = map(int, label[0::2])\n",
    "            length = map(int, label[1::2])\n",
    "            mask = np.zeros(256 * 1600, dtype=np.uint8)\n",
    "            for pos, le in zip(positions, length):\n",
    "                mask[pos:(pos + le)] = 1\n",
    "            masks[:, :, idx] = mask.reshape(256, 1600, order='F')\n",
    "    return fname, masks"
   ]
  },
  {
   "cell_type": "code",
   "execution_count": 5,
   "metadata": {},
   "outputs": [],
   "source": [
    "import fastai\n",
    "\n",
    "class SteelDataset(Dataset):\n",
    "    def __init__(self, df, data_folder, mean, std, phase):\n",
    "        self.df = df\n",
    "        self.root = data_folder\n",
    "        self.mean = mean\n",
    "        self.std = std\n",
    "        self.phase = phase\n",
    "        self.transforms = get_transforms(phase, mean, std)\n",
    "        self.fnames = self.df.index.tolist()\n",
    "\n",
    "    def __getitem__(self, idx):\n",
    "        image_id, mask = make_mask(idx, self.df)\n",
    "        image_path = os.path.join(self.root, \"train_images\",  image_id)\n",
    "        img = cv2.imread(image_path)\n",
    "        augmented = self.transforms(image=img, mask=mask)\n",
    "        img = augmented['image'] # 1x256x1600\n",
    "        mask = augmented['mask'] # 1x256x1600x4\n",
    "        mask = mask[0].permute(2, 0, 1) # 1x4x256x1600\n",
    "        return img, mask\n",
    "\n",
    "    def __len__(self):\n",
    "        return len(self.fnames)\n",
    "        \n",
    "\n",
    "\n",
    "def get_transforms(phase, mean, std):\n",
    "    list_transforms = []\n",
    "    if phase == \"train\":\n",
    "        list_transforms.extend(\n",
    "            [\n",
    "                HorizontalFlip(p=0.5), # only horizontal flip as of now\n",
    "                ShiftScaleRotate(scale_limit=0, rotate_limit=0),\n",
    "                ElasticTransform(),\n",
    "                GridDistortion(), \n",
    "                RandomBrightness(),\n",
    "            ]\n",
    "        )\n",
    "    list_transforms.extend(\n",
    "        [\n",
    "            Normalize(mean=mean, std=std, p=1),\n",
    "            ToTensor(),\n",
    "        ]\n",
    "    )\n",
    "    list_trfms = Compose(list_transforms)\n",
    "    return list_trfms\n",
    "\n",
    "def provider(\n",
    "    data_folder,\n",
    "    df_path,\n",
    "    mean=None,\n",
    "    std=None,\n",
    "    batch_size=BS,\n",
    "    num_workers=8,\n",
    "):\n",
    "    '''Returns dataloader for the model training'''\n",
    "    df = pd.read_csv(df_path)\n",
    "    # https://www.kaggle.com/amanooo/defect-detection-starter-u-net\n",
    "    df['ImageId'], df['ClassId'] = zip(*df['ImageId_ClassId'].str.split('_'))\n",
    "    df['ClassId'] = df['ClassId'].astype(int)\n",
    "    df = df.pivot(index='ImageId',columns='ClassId',values='EncodedPixels')\n",
    "    df['defects'] = df.count(axis=1)\n",
    "    \n",
    "    ds  =SteelDataset(df, data_folder, mean,std, \"val\")\n",
    "    dl = DataLoader(ds,batch_size = BS,num_workers=num_workers,shuffle=False)\n",
    "\n",
    "    return dl\n",
    "\n",
    "\n",
    "dataloader = provider(\n",
    "    data_folder=DATA,\n",
    "                df_path=DATA/\"train.csv\",\n",
    "                mean=(0.485, 0.456, 0.406),\n",
    "                std=(0.229, 0.224, 0.225),\n",
    "                batch_size=BS,\n",
    "                num_workers=8,\n",
    ")\n"
   ]
  },
  {
   "cell_type": "code",
   "execution_count": 6,
   "metadata": {},
   "outputs": [],
   "source": [
    "model = load(\"jit_effb6_e70.pth\")\n",
    "model = model.eval().cuda()\n",
    "\n",
    "def metricSeg(prob, tru,  reduction='none'):\n",
    "    '''Calculates dice of positive and negative images seperately'''\n",
    "    '''probability and truth must be torch tensors'''\n",
    "    prob = torch.sigmoid(prob)\n",
    "    batch_size = len(tru)\n",
    "    result = dict()\n",
    "    with torch.no_grad():\n",
    "        for i in range(4):\n",
    "            dice_ = []\n",
    "            dice_neg_ = []\n",
    "            dice_pos_ = []\n",
    "            num_neg_ = []\n",
    "            num_pos_ = []\n",
    "            for mark in range(100):\n",
    "                threshold = float(mark+1)/100.\n",
    "                probability = prob[:,i:i+1,...]\n",
    "                truth = tru[:,i:i+1,...]\n",
    "                probability = probability.view(batch_size,  -1)\n",
    "                truth = truth.view(batch_size,-1)\n",
    "                assert(probability.shape == truth.shape)\n",
    "\n",
    "                p = (probability > threshold).float()\n",
    "                t = (truth > threshold).float()\n",
    "\n",
    "                t_sum = t.sum(-1)\n",
    "                p_sum = p.sum(-1)\n",
    "                neg_index = torch.nonzero(t_sum == 0)\n",
    "                pos_index = torch.nonzero(t_sum >= 1)\n",
    "\n",
    "                dice_neg = (p_sum == 0).float()\n",
    "                dice_pos = 2 * (p*t).sum(-1)/((p+t).sum(-1))\n",
    "\n",
    "                dice_neg = dice_neg[neg_index]\n",
    "                dice_pos = dice_pos[pos_index]\n",
    "                dice = torch.cat([dice_pos, dice_neg])\n",
    "\n",
    "                dice_neg = np.nan_to_num(dice_neg.mean().item(), 0)\n",
    "                dice_pos = np.nan_to_num(dice_pos.mean().item(), 0)\n",
    "                dice = dice.mean().item()\n",
    "\n",
    "                num_neg = len(neg_index)\n",
    "                num_pos = len(pos_index)\n",
    "                \n",
    "                dice_.append(dice)\n",
    "                dice_pos_.append(dice_pos)\n",
    "                dice_neg_.append(dice_neg)\n",
    "                num_pos_.append(num_pos)\n",
    "                num_neg_.append(num_neg)\n",
    "            result.update({\n",
    "                \"dice_%s\"%(i+1):np.array(dice_),\n",
    "                \"dice_neg_%s\"%(i+1):np.array(dice_neg_),\n",
    "                \"num_neg_%s\"%(i+1):np.array(num_neg_),\n",
    "                \"num_pos_%s\"%(i+1):np.array(num_pos_),\n",
    "            })\n",
    "\n",
    "    return result\n",
    "\n"
   ]
  },
  {
   "cell_type": "markdown",
   "metadata": {},
   "source": [
    "#### Testing Metric "
   ]
  },
  {
   "cell_type": "code",
   "execution_count": 7,
   "metadata": {},
   "outputs": [
    {
     "data": {
      "text/plain": [
       "Index(['dice_1', 'dice_neg_1', 'num_neg_1', 'num_pos_1', 'dice_2',\n",
       "       'dice_neg_2', 'num_neg_2', 'num_pos_2', 'dice_3', 'dice_neg_3',\n",
       "       'num_neg_3', 'num_pos_3', 'dice_4', 'dice_neg_4', 'num_neg_4',\n",
       "       'num_pos_4'],\n",
       "      dtype='object')"
      ]
     },
     "execution_count": 7,
     "metadata": {},
     "output_type": "execute_result"
    }
   ],
   "source": [
    "cols = pd.DataFrame(metricSeg(torch.rand(2,4,256,1600).cuda(),(torch.rand(2,4,256,1600)>0.9).float().cuda())).columns\n",
    "cols"
   ]
  },
  {
   "cell_type": "markdown",
   "metadata": {},
   "source": [
    "### Prediction & Score with different threshold"
   ]
  },
  {
   "cell_type": "code",
   "execution_count": 8,
   "metadata": {},
   "outputs": [],
   "source": [
    "from tqdm import tqdm_notebook as tqdm"
   ]
  },
  {
   "cell_type": "code",
   "execution_count": 9,
   "metadata": {},
   "outputs": [
    {
     "data": {
      "application/vnd.jupyter.widget-view+json": {
       "model_id": "cf933cea5d374be29bc9b91c59cfd849",
       "version_major": 2,
       "version_minor": 0
      },
      "text/plain": [
       "HBox(children=(IntProgress(value=0, max=699), HTML(value='')))"
      ]
     },
     "metadata": {},
     "output_type": "display_data"
    },
    {
     "name": "stdout",
     "output_type": "stream",
     "text": [
      "\n"
     ]
    }
   ],
   "source": [
    "gen = iter(dataloader)\n",
    "scores = []\n",
    "for i in tqdm(range(len(dataloader))):\n",
    "    with torch.no_grad(): # to save GPU mem\n",
    "        img,mask = next(gen)\n",
    "        img = img.cuda()\n",
    "        mask = mask.cuda()\n",
    "        pred = model(img)\n",
    "        scores.append(pd.DataFrame(metricSeg(pred,mask)).values)"
   ]
  },
  {
   "cell_type": "code",
   "execution_count": 10,
   "metadata": {},
   "outputs": [
    {
     "data": {
      "text/plain": [
       "(699, 100, 16)"
      ]
     },
     "execution_count": 10,
     "metadata": {},
     "output_type": "execute_result"
    }
   ],
   "source": [
    "np.stack(scores).shape"
   ]
  },
  {
   "cell_type": "code",
   "execution_count": 11,
   "metadata": {},
   "outputs": [],
   "source": [
    "finaldf = pd.DataFrame(np.stack(scores).mean(axis=0),columns=cols)"
   ]
  },
  {
   "cell_type": "code",
   "execution_count": 14,
   "metadata": {},
   "outputs": [],
   "source": [
    "dices = finaldf[list(\"dice_%s\"%(i+1) for i in range(4))]"
   ]
  },
  {
   "cell_type": "code",
   "execution_count": 16,
   "metadata": {},
   "outputs": [],
   "source": [
    "from matplotlib import pyplot as plt"
   ]
  },
  {
   "cell_type": "code",
   "execution_count": 20,
   "metadata": {},
   "outputs": [
    {
     "name": "stdout",
     "output_type": "stream",
     "text": [
      "dice_1\n",
      "dice_2\n",
      "dice_3\n",
      "dice_4\n"
     ]
    },
    {
     "data": {
      "text/plain": [
       "<matplotlib.legend.Legend at 0x7f343fa49668>"
      ]
     },
     "execution_count": 20,
     "metadata": {},
     "output_type": "execute_result"
    },
    {
     "data": {
      "image/png": "[encoded data removed]",
      "text/plain": [
       "<Figure size 432x288 with 1 Axes>"
      ]
     },
     "metadata": {
      "needs_background": "light"
     },
     "output_type": "display_data"
    }
   ],
   "source": [
    "for d in dices:\n",
    "    print(d)\n",
    "    plt.plot(dices[d], )\n",
    "plt.legend(dices.columns)"
   ]
  },
  {
   "cell_type": "code",
   "execution_count": 24,
   "metadata": {},
   "outputs": [
    {
     "data": {
      "text/html": [
       "<div>\n",
       "<style scoped>\n",
       "    .dataframe tbody tr th:only-of-type {\n",
       "        vertical-align: middle;\n",
       "    }\n",
       "\n",
       "    .dataframe tbody tr th {\n",
       "        vertical-align: top;\n",
       "    }\n",
       "\n",
       "    .dataframe thead th {\n",
       "        text-align: right;\n",
       "    }\n",
       "</style>\n",
       "<table border=\"1\" class=\"dataframe\">\n",
       "  <thead>\n",
       "    <tr style=\"text-align: right;\">\n",
       "      <th></th>\n",
       "      <th>dice_1</th>\n",
       "      <th>dice_2</th>\n",
       "      <th>dice_3</th>\n",
       "      <th>dice_4</th>\n",
       "    </tr>\n",
       "  </thead>\n",
       "  <tbody>\n",
       "    <tr>\n",
       "      <th>30</th>\n",
       "      <td>0.978583</td>\n",
       "      <td>0.993242</td>\n",
       "      <td>0.915862</td>\n",
       "      <td>0.992036</td>\n",
       "    </tr>\n",
       "    <tr>\n",
       "      <th>31</th>\n",
       "      <td>0.978730</td>\n",
       "      <td>0.993250</td>\n",
       "      <td>0.916353</td>\n",
       "      <td>0.992059</td>\n",
       "    </tr>\n",
       "    <tr>\n",
       "      <th>32</th>\n",
       "      <td>0.978790</td>\n",
       "      <td>0.993252</td>\n",
       "      <td>0.916555</td>\n",
       "      <td>0.992080</td>\n",
       "    </tr>\n",
       "    <tr>\n",
       "      <th>33</th>\n",
       "      <td>0.978913</td>\n",
       "      <td>0.993253</td>\n",
       "      <td>0.916985</td>\n",
       "      <td>0.992097</td>\n",
       "    </tr>\n",
       "    <tr>\n",
       "      <th>34</th>\n",
       "      <td>0.979025</td>\n",
       "      <td>0.993256</td>\n",
       "      <td>0.917370</td>\n",
       "      <td>0.992108</td>\n",
       "    </tr>\n",
       "    <tr>\n",
       "      <th>35</th>\n",
       "      <td>0.979211</td>\n",
       "      <td>0.993254</td>\n",
       "      <td>0.917961</td>\n",
       "      <td>0.992112</td>\n",
       "    </tr>\n",
       "    <tr>\n",
       "      <th>36</th>\n",
       "      <td>0.979303</td>\n",
       "      <td>0.993327</td>\n",
       "      <td>0.918203</td>\n",
       "      <td>0.992116</td>\n",
       "    </tr>\n",
       "    <tr>\n",
       "      <th>37</th>\n",
       "      <td>0.979310</td>\n",
       "      <td>0.993321</td>\n",
       "      <td>0.918484</td>\n",
       "      <td>0.992117</td>\n",
       "    </tr>\n",
       "    <tr>\n",
       "      <th>38</th>\n",
       "      <td>0.979387</td>\n",
       "      <td>0.993390</td>\n",
       "      <td>0.918974</td>\n",
       "      <td>0.992113</td>\n",
       "    </tr>\n",
       "    <tr>\n",
       "      <th>39</th>\n",
       "      <td>0.979372</td>\n",
       "      <td>0.993375</td>\n",
       "      <td>0.919350</td>\n",
       "      <td>0.992106</td>\n",
       "    </tr>\n",
       "    <tr>\n",
       "      <th>40</th>\n",
       "      <td>0.979347</td>\n",
       "      <td>0.993358</td>\n",
       "      <td>0.919697</td>\n",
       "      <td>0.992095</td>\n",
       "    </tr>\n",
       "    <tr>\n",
       "      <th>41</th>\n",
       "      <td>0.979316</td>\n",
       "      <td>0.993335</td>\n",
       "      <td>0.919846</td>\n",
       "      <td>0.992080</td>\n",
       "    </tr>\n",
       "    <tr>\n",
       "      <th>42</th>\n",
       "      <td>0.979515</td>\n",
       "      <td>0.993310</td>\n",
       "      <td>0.919883</td>\n",
       "      <td>0.992062</td>\n",
       "    </tr>\n",
       "    <tr>\n",
       "      <th>43</th>\n",
       "      <td>0.979539</td>\n",
       "      <td>0.993282</td>\n",
       "      <td>0.919891</td>\n",
       "      <td>0.992039</td>\n",
       "    </tr>\n",
       "    <tr>\n",
       "      <th>44</th>\n",
       "      <td>0.979473</td>\n",
       "      <td>0.993252</td>\n",
       "      <td>0.919942</td>\n",
       "      <td>0.992014</td>\n",
       "    </tr>\n",
       "    <tr>\n",
       "      <th>45</th>\n",
       "      <td>0.979401</td>\n",
       "      <td>0.993220</td>\n",
       "      <td>0.919798</td>\n",
       "      <td>0.991988</td>\n",
       "    </tr>\n",
       "    <tr>\n",
       "      <th>46</th>\n",
       "      <td>0.979320</td>\n",
       "      <td>0.993267</td>\n",
       "      <td>0.919783</td>\n",
       "      <td>0.991956</td>\n",
       "    </tr>\n",
       "    <tr>\n",
       "      <th>47</th>\n",
       "      <td>0.979228</td>\n",
       "      <td>0.993317</td>\n",
       "      <td>0.919658</td>\n",
       "      <td>0.991921</td>\n",
       "    </tr>\n",
       "    <tr>\n",
       "      <th>48</th>\n",
       "      <td>0.979120</td>\n",
       "      <td>0.993362</td>\n",
       "      <td>0.919405</td>\n",
       "      <td>0.991885</td>\n",
       "    </tr>\n",
       "    <tr>\n",
       "      <th>49</th>\n",
       "      <td>0.979166</td>\n",
       "      <td>0.993402</td>\n",
       "      <td>0.919038</td>\n",
       "      <td>0.991844</td>\n",
       "    </tr>\n",
       "    <tr>\n",
       "      <th>50</th>\n",
       "      <td>0.979038</td>\n",
       "      <td>0.993364</td>\n",
       "      <td>0.919038</td>\n",
       "      <td>0.991882</td>\n",
       "    </tr>\n",
       "    <tr>\n",
       "      <th>51</th>\n",
       "      <td>0.978981</td>\n",
       "      <td>0.993486</td>\n",
       "      <td>0.918677</td>\n",
       "      <td>0.991838</td>\n",
       "    </tr>\n",
       "    <tr>\n",
       "      <th>52</th>\n",
       "      <td>0.978843</td>\n",
       "      <td>0.993443</td>\n",
       "      <td>0.918530</td>\n",
       "      <td>0.991791</td>\n",
       "    </tr>\n",
       "    <tr>\n",
       "      <th>53</th>\n",
       "      <td>0.978852</td>\n",
       "      <td>0.993398</td>\n",
       "      <td>0.918028</td>\n",
       "      <td>0.991739</td>\n",
       "    </tr>\n",
       "    <tr>\n",
       "      <th>54</th>\n",
       "      <td>0.978836</td>\n",
       "      <td>0.993425</td>\n",
       "      <td>0.917807</td>\n",
       "      <td>0.991684</td>\n",
       "    </tr>\n",
       "    <tr>\n",
       "      <th>55</th>\n",
       "      <td>0.978655</td>\n",
       "      <td>0.993451</td>\n",
       "      <td>0.917373</td>\n",
       "      <td>0.991625</td>\n",
       "    </tr>\n",
       "    <tr>\n",
       "      <th>56</th>\n",
       "      <td>0.978550</td>\n",
       "      <td>0.993396</td>\n",
       "      <td>0.916904</td>\n",
       "      <td>0.991561</td>\n",
       "    </tr>\n",
       "    <tr>\n",
       "      <th>57</th>\n",
       "      <td>0.978429</td>\n",
       "      <td>0.993335</td>\n",
       "      <td>0.916555</td>\n",
       "      <td>0.991495</td>\n",
       "    </tr>\n",
       "    <tr>\n",
       "      <th>58</th>\n",
       "      <td>0.978221</td>\n",
       "      <td>0.993268</td>\n",
       "      <td>0.916080</td>\n",
       "      <td>0.991421</td>\n",
       "    </tr>\n",
       "    <tr>\n",
       "      <th>59</th>\n",
       "      <td>0.977994</td>\n",
       "      <td>0.993195</td>\n",
       "      <td>0.915403</td>\n",
       "      <td>0.991343</td>\n",
       "    </tr>\n",
       "  </tbody>\n",
       "</table>\n",
       "</div>"
      ],
      "text/plain": [
       "      dice_1    dice_2    dice_3    dice_4\n",
       "30  0.978583  0.993242  0.915862  0.992036\n",
       "31  0.978730  0.993250  0.916353  0.992059\n",
       "32  0.978790  0.993252  0.916555  0.992080\n",
       "33  0.978913  0.993253  0.916985  0.992097\n",
       "34  0.979025  0.993256  0.917370  0.992108\n",
       "35  0.979211  0.993254  0.917961  0.992112\n",
       "36  0.979303  0.993327  0.918203  0.992116\n",
       "37  0.979310  0.993321  0.918484  0.992117\n",
       "38  0.979387  0.993390  0.918974  0.992113\n",
       "39  0.979372  0.993375  0.919350  0.992106\n",
       "40  0.979347  0.993358  0.919697  0.992095\n",
       "41  0.979316  0.993335  0.919846  0.992080\n",
       "42  0.979515  0.993310  0.919883  0.992062\n",
       "43  0.979539  0.993282  0.919891  0.992039\n",
       "44  0.979473  0.993252  0.919942  0.992014\n",
       "45  0.979401  0.993220  0.919798  0.991988\n",
       "46  0.979320  0.993267  0.919783  0.991956\n",
       "47  0.979228  0.993317  0.919658  0.991921\n",
       "48  0.979120  0.993362  0.919405  0.991885\n",
       "49  0.979166  0.993402  0.919038  0.991844\n",
       "50  0.979038  0.993364  0.919038  0.991882\n",
       "51  0.978981  0.993486  0.918677  0.991838\n",
       "52  0.978843  0.993443  0.918530  0.991791\n",
       "53  0.978852  0.993398  0.918028  0.991739\n",
       "54  0.978836  0.993425  0.917807  0.991684\n",
       "55  0.978655  0.993451  0.917373  0.991625\n",
       "56  0.978550  0.993396  0.916904  0.991561\n",
       "57  0.978429  0.993335  0.916555  0.991495\n",
       "58  0.978221  0.993268  0.916080  0.991421\n",
       "59  0.977994  0.993195  0.915403  0.991343"
      ]
     },
     "execution_count": 24,
     "metadata": {},
     "output_type": "execute_result"
    }
   ],
   "source": [
    "dices[30:60]"
   ]
  },
  {
   "cell_type": "code",
   "execution_count": 25,
   "metadata": {},
   "outputs": [
    {
     "data": {
      "text/plain": [
       "[0.44, 0.5, 0.45, 0.38]"
      ]
     },
     "execution_count": 25,
     "metadata": {},
     "output_type": "execute_result"
    }
   ],
   "source": [
    "[0.44,0.5,0.45,0.38]"
   ]
  },
  {
   "cell_type": "code",
   "execution_count": null,
   "metadata": {},
   "outputs": [],
   "source": []
  }
 ],
 "metadata": {
  "kernelspec": {
   "display_name": "Python 3",
   "language": "python",
   "name": "python3"
  },
  "language_info": {
   "codemirror_mode": {
    "name": "ipython",
    "version": 3
   },
   "file_extension": ".py",
   "mimetype": "text/x-python",
   "name": "python",
   "nbconvert_exporter": "python",
   "pygments_lexer": "ipython3",
   "version": "3.6.7"
  }
 },
 "nbformat": 4,
 "nbformat_minor": 2
}
