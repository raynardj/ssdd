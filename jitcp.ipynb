{
 "cells": [
  {
   "cell_type": "markdown",
   "metadata": {},
   "source": [
    "# JIT Copy Path File"
   ]
  },
  {
   "cell_type": "markdown",
   "metadata": {},
   "source": [
    "### Documentation\n",
    "* The purpose of this chunk of code is to transfer pytorch model([fastai saved](https://docs.fast.ai/callbacks.html#SaveModelCallback)) into pytorch jit model\n",
    "\n",
    "* Install this command line ````sudo ln -s $HOME/ssdd/jitcp /usr/bin/jitcp````, assume you have this repository in your home directory\n",
    "\n",
    "* ```chmod +x /usr/bin/jitcp```\n",
    "\n",
    "* The transformation command line example:\n",
    "\n",
    "````shell\n",
    "jitcp --src=\"/home/paperspace/bestmodel_27.pth\" --dst=\"jit_fpn_b6.pth\" --model=\"fpn\" --encoder=\"efficientnet-b6\"\n",
    "\n",
    "````\n",
    "\n",
    "* ```src``` or ```dst``` could be relative or absolute path\n",
    "\n",
    "* Prerequisite:\n",
    "    * The process require a machine with **GPU CUDA**\n",
    "    * Other libraries required for training the model"
   ]
  },
  {
   "cell_type": "markdown",
   "metadata": {},
   "source": [
    "Experimental global variables for testing"
   ]
  },
  {
   "cell_type": "code",
   "execution_count": 1,
   "metadata": {},
   "outputs": [],
   "source": [
    "# SOURCE  = \"/home/paperspace/bestmodel_27.pth\"\n",
    "# DESTINATION  =\"jit_fpn_b6.pth\"\n",
    "# MODELNAME = \"fpn\"\n",
    "# ENCODER = \"efficientnet-b6\""
   ]
  },
  {
   "cell_type": "code",
   "execution_count": 11,
   "metadata": {},
   "outputs": [],
   "source": [
    "from argparse import ArgumentParser"
   ]
  },
  {
   "cell_type": "markdown",
   "metadata": {},
   "source": [
    "Argument Parser for command line use"
   ]
  },
  {
   "cell_type": "code",
   "execution_count": 12,
   "metadata": {},
   "outputs": [],
   "source": [
    "ap = ArgumentParser()\n",
    "\n",
    "ap.add_argument(\"--src\", dest = \"src\", help=\"file path for srouce weights, pth file\")\n",
    "ap.add_argument(\"--dst\", dest = \"dst\", help=\"file path for destination weights, pth file\")\n",
    "ap.add_argument(\"--model\", dest = \"model\", default ='fpn' , help=\"Model name either 'unet' or 'fpn, default 'fpn'\")\n",
    "ap.add_argument(\"--encoder\", dest = \"encoder\", help='encoder backbone, like efficientnet-b6, efficientnet-b7')\n",
    "\n",
    "args = ap.parse_args()\n",
    "\n",
    "SOURCE = args.src\n",
    "DESTINATION = args.dst\n",
    "MODELNAME = args.model\n",
    "ENCODER = args.encoder"
   ]
  },
  {
   "cell_type": "code",
   "execution_count": 2,
   "metadata": {},
   "outputs": [],
   "source": [
    "from fastai.vision import *\n",
    "import  segmentation_models_pytorch as smp\n",
    "import torch"
   ]
  },
  {
   "cell_type": "code",
   "execution_count": 3,
   "metadata": {},
   "outputs": [],
   "source": [
    "if MODELNAME == \"fpn\":\n",
    "    modellib = smp.FPN\n",
    "elif MODELNAME==\"unet\":\n",
    "    modellib = smp.Unet\n",
    "else:\n",
    "    print(\"Didn't know about name %s\"%(MODELNAME))\n",
    "    exit(0)"
   ]
  },
  {
   "cell_type": "code",
   "execution_count": 4,
   "metadata": {},
   "outputs": [
    {
     "name": "stdout",
     "output_type": "stream",
     "text": [
      "Constructing model:\tfpn\n",
      "With Encoder Backbone:\tefficientnet-b6\n"
     ]
    }
   ],
   "source": [
    "print(\"Constructing model:\\t%s\\nWith Encoder Backbone:\\t%s\"%(MODELNAME, ENCODER))"
   ]
  },
  {
   "cell_type": "code",
   "execution_count": 5,
   "metadata": {},
   "outputs": [],
   "source": [
    "model = modellib(ENCODER,encoder_weights = None, classes = 4, activation=None)"
   ]
  },
  {
   "cell_type": "code",
   "execution_count": 6,
   "metadata": {},
   "outputs": [
    {
     "name": "stdout",
     "output_type": "stream",
     "text": [
      "Loading model to cuda\n"
     ]
    }
   ],
   "source": [
    "print(\"Loading model to cuda\")\n",
    "model = model.cuda()"
   ]
  },
  {
   "cell_type": "code",
   "execution_count": 7,
   "metadata": {},
   "outputs": [
    {
     "name": "stdout",
     "output_type": "stream",
     "text": [
      "Loading weights from:\t/home/paperspace/bestmodel_27.pth\n"
     ]
    }
   ],
   "source": [
    "print(\"Loading weights from:\\t%s\"%(SOURCE))"
   ]
  },
  {
   "cell_type": "code",
   "execution_count": 8,
   "metadata": {},
   "outputs": [
    {
     "data": {
      "text/plain": [
       "<All keys matched successfully>"
      ]
     },
     "execution_count": 8,
     "metadata": {},
     "output_type": "execute_result"
    }
   ],
   "source": [
    "model.load_state_dict(torch.load(SOURCE)[\"model\"])"
   ]
  },
  {
   "cell_type": "code",
   "execution_count": 9,
   "metadata": {},
   "outputs": [],
   "source": [
    "testimg = torch.rand(2,3,256,256).cuda()\n",
    "model = model.eval()"
   ]
  },
  {
   "cell_type": "code",
   "execution_count": 10,
   "metadata": {},
   "outputs": [
    {
     "name": "stdout",
     "output_type": "stream",
     "text": [
      "JIT tracing the model\n",
      "JIT model saved to:\tjit_fpn_b6.pth\n"
     ]
    }
   ],
   "source": [
    "print(\"JIT tracing the model\")\n",
    "traced = torch.jit.trace(model, testimg)\n",
    "traced.save(DESTINATION)\n",
    "print(\"JIT model saved to:\\t%s\"%(DESTINATION))"
   ]
  }
 ],
 "metadata": {
  "kernelspec": {
   "display_name": "Python 3",
   "language": "python",
   "name": "python3"
  },
  "language_info": {
   "codemirror_mode": {
    "name": "ipython",
    "version": 3
   },
   "file_extension": ".py",
   "mimetype": "text/x-python",
   "name": "python",
   "nbconvert_exporter": "python",
   "pygments_lexer": "ipython3",
   "version": "3.6.7"
  }
 },
 "nbformat": 4,
 "nbformat_minor": 2
}
